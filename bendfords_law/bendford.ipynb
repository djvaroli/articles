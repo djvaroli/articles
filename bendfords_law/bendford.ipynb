{
 "cells": [
  {
   "cell_type": "code",
   "execution_count": null,
   "metadata": {
    "cell_id": "b344fa23-4ae2-42f8-a4b1-5fae2c5c0b37",
    "deepnote_app_coordinates": {
     "h": 5,
     "w": 12,
     "x": 0,
     "y": null
    },
    "deepnote_cell_height": 171,
    "deepnote_cell_type": "code",
    "deepnote_to_be_reexecuted": false,
    "execution_millis": 0,
    "execution_start": 1651069734921,
    "source_hash": "c33ae731",
    "tags": []
   },
   "outputs": [
    {
     "ename": "",
     "evalue": "",
     "output_type": "error",
     "traceback": [
      "\u001b[1;31mRunning cells with 'Python 3.9.12 ('writing39')' requires ipykernel package.\n",
      "Run the following command to install 'ipykernel' into the Python environment. \n",
      "Command: 'conda install -n writing39 ipykernel --update-deps --force-reinstall'"
     ]
    }
   ],
   "source": [
    "import pandas as pd\n",
    "import numpy as np\n",
    "from pathlib import Path\n",
    "from typing import Dict\n",
    "\n",
    "from helpers import bendford_comparison_figure, plot_oom_dist"
   ]
  },
  {
   "cell_type": "markdown",
   "metadata": {},
   "source": [
    "### Convenience Functions for Retrieving Datasets"
   ]
  },
  {
   "cell_type": "code",
   "execution_count": 2,
   "metadata": {
    "cell_id": "4872977f07b5479aba81f173cd2d1274",
    "deepnote_app_coordinates": {
     "h": 5,
     "w": 12,
     "x": 0,
     "y": 6
    },
    "deepnote_cell_height": 117,
    "deepnote_cell_type": "code",
    "deepnote_to_be_reexecuted": false,
    "execution_millis": 0,
    "execution_start": 1651069734925,
    "source_hash": "b18f3452",
    "tags": []
   },
   "outputs": [],
   "source": [
    "data_root = Path(\"data\")\n",
    "data_group_location_map = {\n",
    "    \"covid\": data_root / \"covid\",\n",
    "    \"ukraine-war\": data_root / \"war_in_ukraine\",\n",
    "    \"world-population\": data_root / \"world_population\"\n",
    "\n",
    "}\n",
    "def get_csv_file_path(group: str, filename: str) -> Path:\n",
    "    \"\"\"Returns the absolute path to a CSV dataset.\n",
    "    \n",
    "    Args:\n",
    "        group (str): dataset group, i.e. 'covid'\n",
    "        filename (str): the name of the file within the group.\n",
    "\n",
    "    Returns:\n",
    "        Path: absolute path to specified file.\n",
    "    \"\"\"\n",
    "\n",
    "    return data_group_location_map[group] / filename\n",
    "\n",
    "\n",
    "def get_dataframe(group: str, filename: str) -> pd.DataFrame:\n",
    "    \"\"\"Returns an instance of a Pandas DataFrame with data obtained \n",
    "    from a specified dataset.\n",
    "\n",
    "    Args:\n",
    "        group (str): dataset group, i.e. 'covid'\n",
    "        filename (str): the name of the file within the group.\n",
    "\n",
    "    Returns:\n",
    "        pd.DataFrame: dataframe with loaded data\n",
    "    \"\"\"\n",
    "    filepath = get_csv_file_path(group, filename)\n",
    "    return pd.read_csv(filepath)"
   ]
  },
  {
   "cell_type": "markdown",
   "metadata": {},
   "source": [
    "### Prepare the Datasets"
   ]
  },
  {
   "cell_type": "code",
   "execution_count": 3,
   "metadata": {},
   "outputs": [],
   "source": [
    "# map dataset name to sequence and a human readable title\n",
    "dataset_sequences: Dict[str, Dict] = {}"
   ]
  },
  {
   "cell_type": "markdown",
   "metadata": {},
   "source": [
    "#### Samples from Random Uniform Distribution\n",
    "Synthetic data for comparison"
   ]
  },
  {
   "cell_type": "code",
   "execution_count": 4,
   "metadata": {},
   "outputs": [],
   "source": [
    "name = \"random_uniform\"\n",
    "title = \"Random Uniform\"\n",
    "sequence = np.abs(np.random.uniform(0, 1e10, (1000)))\n",
    "dataset_sequences[name] = dict(\n",
    "    sequence=sequence.ravel().astype(np.int64),\n",
    "    title=title\n",
    ")"
   ]
  },
  {
   "cell_type": "markdown",
   "metadata": {},
   "source": [
    "#### World Population\n",
    "See https://www.kaggle.com/datasets/tanuprabhu/population-by-country-2020"
   ]
  },
  {
   "cell_type": "code",
   "execution_count": 5,
   "metadata": {},
   "outputs": [],
   "source": [
    "name = \"world_population_2020\"\n",
    "title = \"World Population (2020)\"\n",
    "\n",
    "\n",
    "world_population_data = get_dataframe(\"world-population\", \"world_population_2020.csv\")\n",
    "world_population_data = world_population_data[[\"Population (2020)\", \"Density (P/Km²)\", \"Land Area (Km²)\"]]\n",
    "dataset_sequences[name] = dict(\n",
    "    sequence=world_population_data.values.ravel().astype(np.int64),\n",
    "    title=title\n",
    ")"
   ]
  },
  {
   "cell_type": "markdown",
   "metadata": {},
   "source": [
    "#### World Covid Cases\n",
    "See https://www.kaggle.com/datasets/imdevskp/corona-virus-report?select=covid_19_clean_complete.csv"
   ]
  },
  {
   "cell_type": "code",
   "execution_count": 6,
   "metadata": {},
   "outputs": [],
   "source": [
    "name = \"world_covid_cases\"\n",
    "title = \"World Covid Cases\"\n",
    "\n",
    "world_covid_data = pd.read_csv(get_csv_file_path(\"covid\", \"covid_cases_country.csv\"))\n",
    "world_covid_data = world_covid_data.drop(columns=[\"Country/Region\", \"WHO Region\", \"1 week change\", \"1 week % increase\", \"Deaths / 100 Recovered\", \"Recovered / 100 Cases\", \"Deaths / 100 Cases\"])\n",
    "dataset_sequences[name] = dict(\n",
    "    sequence=world_covid_data.values.ravel().astype(np.int64),\n",
    "    title=title\n",
    ")"
   ]
  },
  {
   "cell_type": "markdown",
   "metadata": {},
   "source": [
    "#### US County Covid Cases\n",
    "See https://www.kaggle.com/datasets/sudalairajkumar/covid19-in-usa"
   ]
  },
  {
   "cell_type": "code",
   "execution_count": 7,
   "metadata": {},
   "outputs": [],
   "source": [
    "name = \"usa_covid_cases\"\n",
    "title = \"USA Covid Cases\"\n",
    "\n",
    "covid_data_usa = pd.read_csv(get_csv_file_path(\"covid\", \"covid_cases_us_counties.csv\"))\n",
    "covid_data_usa = covid_data_usa[[\"cases\", \"deaths\"]]\n",
    "covid_data_usa = covid_data_usa.dropna()\n",
    "dataset_sequences[name] = dict(\n",
    "    sequence=covid_data_usa.values.ravel().astype(np.int64),\n",
    "    title=title\n",
    ")"
   ]
  },
  {
   "cell_type": "markdown",
   "metadata": {},
   "source": [
    "#### Russia Covid Cases\n",
    "See https://data.humdata.org/dataset/covid-19-cases-data-in-russia"
   ]
  },
  {
   "cell_type": "code",
   "execution_count": 8,
   "metadata": {},
   "outputs": [],
   "source": [
    "name = \"russia_covid_cases\"\n",
    "title = \"Covid (Russia)\"\n",
    "covid_data_russia = pd.read_csv(get_csv_file_path(\"covid\", \"covid_cases_russia.csv\"))\n",
    "covid_data_russia = covid_data_russia[[\"infected\", \"recovered\", \"died\"]]\n",
    "dataset_sequences[name] = dict(\n",
    "    sequence=covid_data_russia.values.ravel().astype(np.int64),\n",
    "    title=title\n",
    ")\n"
   ]
  },
  {
   "cell_type": "markdown",
   "metadata": {},
   "source": [
    "#### Russia Equipment Losses During War in Ukraine\n",
    "See https://www.kaggle.com/datasets/piterfm/2022-ukraine-russian-war"
   ]
  },
  {
   "cell_type": "code",
   "execution_count": 9,
   "metadata": {},
   "outputs": [],
   "source": [
    "name = \"russia_losses_equipment\"\n",
    "title = \"Russia Losses (Equipment)\"\n",
    "russia_losses_equipment = pd.read_csv(get_csv_file_path(\"ukraine-war\", \"russia_losses_equipment.csv\"))\n",
    "russia_losses_equipment = russia_losses_equipment.drop(columns=[\"date\", \"day\", \"special equipment\", \"mobile SRBM system\"])\n",
    "\n",
    "dataset_sequences[name] = dict(\n",
    "    sequence=russia_losses_equipment.values.ravel().astype(np.int64),\n",
    "    title=title\n",
    ")"
   ]
  },
  {
   "cell_type": "markdown",
   "metadata": {},
   "source": [
    "### Plot Comparison Figures and Order of Magnitude Distributions"
   ]
  },
  {
   "cell_type": "code",
   "execution_count": 10,
   "metadata": {},
   "outputs": [
    {
     "name": "stdout",
     "output_type": "stream",
     "text": [
      "Finished plotting.\n"
     ]
    }
   ],
   "source": [
    "# this will take about 20 seconds\n",
    "dataset_figures = {}\n",
    "for index, (dataset_name, dataset) in enumerate(dataset_sequences.items()):\n",
    "    print(f\"Plotting {index + 1} / {len(dataset_sequences)}.\", end=\"\\r\")\n",
    "    bendford_figure = bendford_comparison_figure(\n",
    "        sequence=dataset[\"sequence\"],\n",
    "        legend=dataset[\"title\"]\n",
    "    )\n",
    "    oom_dist_figure = plot_oom_dist(\n",
    "        dataset[\"sequence\"],\n",
    "        legend=dataset[\"title\"]\n",
    "    )\n",
    "    \n",
    "    bendford_figure.write_image(f\"../figures/{dataset_name.lower().replace(' ', '-')}.png\")\n",
    "    oom_dist_figure.write_image(f\"../figures/{dataset_name.lower().replace(' ', '-')}-oom.png\")\n",
    "    dataset_figures[dataset_name] = dict(\n",
    "        bendford=bendford_figure,\n",
    "        oom=oom_dist_figure\n",
    "    )\n",
    "print(\"Finished plotting.\")"
   ]
  }
 ],
 "metadata": {
  "deepnote": {},
  "deepnote_app_layout": "article",
  "deepnote_execution_queue": [],
  "deepnote_notebook_id": "a9fbf1d7-47ea-46da-982f-988036df3380",
  "interpreter": {
   "hash": "a4693f168c1ae1f234fe28e7b57f97b98e6682830d6c4e66b9dd8b115e07ab52"
  },
  "kernelspec": {
   "display_name": "Python 3.9.12 ('writing39')",
   "language": "python",
   "name": "python3"
  },
  "language_info": {
   "codemirror_mode": {
    "name": "ipython",
    "version": 3
   },
   "file_extension": ".py",
   "mimetype": "text/x-python",
   "name": "python",
   "nbconvert_exporter": "python",
   "pygments_lexer": "ipython3",
   "version": "3.9.12"
  },
  "orig_nbformat": 2
 },
 "nbformat": 4,
 "nbformat_minor": 2
}
